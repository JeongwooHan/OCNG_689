{
 "cells": [
  {
   "cell_type": "markdown",
   "metadata": {},
   "source": [
    "# Homework03                                                           Jeongwoo Han\n"
   ]
  },
  {
   "cell_type": "code",
   "execution_count": 1,
   "metadata": {
    "collapsed": true
   },
   "outputs": [],
   "source": [
    "import numpy as np\n",
    "import matplotlib.pyplot as plt\n",
    "%matplotlib inline"
   ]
  },
  {
   "cell_type": "markdown",
   "metadata": {},
   "source": [
    "### 1. Vector manipulation\n",
    "\n",
    "Create a vector of zeros of size 10 but have the fifth value be 1."
   ]
  },
  {
   "cell_type": "code",
   "execution_count": 2,
   "metadata": {
    "collapsed": false
   },
   "outputs": [
    {
     "name": "stdout",
     "output_type": "stream",
     "text": [
      "[ 0.  0.  0.  0.  1.  0.  0.  0.  0.  0.]\n"
     ]
    }
   ],
   "source": [
    "v = np.zeros(10)\n",
    "v[4] = 1\n",
    "\n",
    "print(v)"
   ]
  },
  {
   "cell_type": "markdown",
   "metadata": {},
   "source": [
    "### 2. Vector range\n",
    "\n",
    "Create a vector with values ranging from 10 to 49, inclusive."
   ]
  },
  {
   "cell_type": "code",
   "execution_count": 3,
   "metadata": {
    "collapsed": false
   },
   "outputs": [
    {
     "name": "stdout",
     "output_type": "stream",
     "text": [
      "[10 11 12 13 14 15 16 17 18 19 20 21 22 23 24 25 26 27 28 29 30 31 32 33 34\n",
      " 35 36 37 38 39 40 41 42 43 44 45 46 47 48 49]\n"
     ]
    }
   ],
   "source": [
    "v = np.arange(10,50)\n",
    "print(v)"
   ]
  },
  {
   "cell_type": "markdown",
   "metadata": {},
   "source": [
    "### 3. Reverse a vector\n",
    "\n",
    "Write a function, `reverse(x)` which reverses a vector, so that the first element becomes the last element. The API should be\n",
    "\n",
    "    return a 1D vector with the elements reversed\n",
    "    \n",
    "    Input\n",
    "    -----\n",
    "        x: 1D array\n",
    "    \n",
    "    Output\n",
    "    ------\n",
    "        res: 1D array, with the elements of `x` reversed\n",
    "\n",
    "Include this (or an equivalent description) in the function's docstring."
   ]
  },
  {
   "cell_type": "code",
   "execution_count": 4,
   "metadata": {
    "collapsed": false
   },
   "outputs": [
    {
     "name": "stdout",
     "output_type": "stream",
     "text": [
      "[10  9  8  7  6  5  4  3  2  1]\n"
     ]
    }
   ],
   "source": [
    "def reverse(x):\n",
    "    '''return a 1D vector with the elements reversed\n",
    "    \n",
    "    Input\n",
    "    -----\n",
    "        x: 1D array\n",
    "    Output\n",
    "    -----\n",
    "        res: 1D array, with the elements of 'x' reversed'''\n",
    "    res = x[::-1]\n",
    "    return res\n",
    "\n",
    "x = np.arange(1,11)\n",
    "\n",
    "print(reverse(x))\n",
    "    "
   ]
  },
  {
   "cell_type": "markdown",
   "metadata": {},
   "source": [
    "### 4. Find indices of non-zero elements\n",
    "\n",
    "Write a function `find_nonzero(x)` that finds the indices of non-zero elements, with an API like\n",
    "\n",
    "    return the indices of non-zero elements of an array.\n",
    "\n",
    "    Input:      x:  array\n",
    "    Output:     indices: array of integer indices\n",
    "\n",
    "Use the function to get out the non-zero elements from an array containing the elements [1,2,0,0,4,0]."
   ]
  },
  {
   "cell_type": "code",
   "execution_count": 5,
   "metadata": {
    "collapsed": false
   },
   "outputs": [
    {
     "name": "stdout",
     "output_type": "stream",
     "text": [
      "Iindeces for Non_zeros = [0 1 4]\n",
      "Non_zero values =  [1 2 4]\n"
     ]
    }
   ],
   "source": [
    "def find_nonzero(x):\n",
    "    idx = np.where(x != 0)[0]\n",
    "    \n",
    "    return idx\n",
    "\n",
    "x = np.array([1, 2, 0, 0, 4, 0])\n",
    "\n",
    "print('Iindeces for Non_zeros =', find_nonzero(x))\n",
    "print('Non_zero values = ', x[find_nonzero(x)])"
   ]
  },
  {
   "cell_type": "markdown",
   "metadata": {},
   "source": [
    "### 5. Array with random values\n",
    "\n",
    "Create a 3x3x3 array with normally distributed ($\\mu =0, \\sigma=1)$ random values."
   ]
  },
  {
   "cell_type": "code",
   "execution_count": 6,
   "metadata": {
    "collapsed": false
   },
   "outputs": [
    {
     "name": "stdout",
     "output_type": "stream",
     "text": [
      "[[[-0.60530407 -0.30290746  0.10265158]\n",
      "  [ 0.77733593 -1.3696313   0.52586266]\n",
      "  [ 0.91811197  0.07528569  0.5447515 ]]\n",
      "\n",
      " [[ 0.17221251 -1.25124135  0.26267679]\n",
      "  [ 0.85213991  0.20725842  0.71378051]\n",
      "  [-0.1425047  -1.44716222 -0.58189795]]\n",
      "\n",
      " [[ 1.12184008  0.78126734  0.19866379]\n",
      "  [ 0.63510258 -0.24509895  1.20619266]\n",
      "  [ 0.57522988  0.51408963 -0.32101263]]]\n"
     ]
    }
   ],
   "source": [
    "mu, sigma = 0, 1\n",
    "rvs = np.random.normal(mu, sigma, (3,3,3))\n",
    "\n",
    "print(rvs)"
   ]
  },
  {
   "cell_type": "markdown",
   "metadata": {},
   "source": [
    "### 6. Operations on an array with random values\n",
    "\n",
    "Create a 10x10 array with random values. Find \n",
    "- the minimum value of the 2nd row\n",
    "- the maximum value of the 4th column"
   ]
  },
  {
   "cell_type": "code",
   "execution_count": 7,
   "metadata": {
    "collapsed": false
   },
   "outputs": [
    {
     "name": "stdout",
     "output_type": "stream",
     "text": [
      "-0.564978437363\n",
      "0.410589675369\n"
     ]
    }
   ],
   "source": [
    "np.random.seed(15)\n",
    "\n",
    "rvs = np.random.randn(10,10)\n",
    "min_2ndrow = np.amin(rvs[1,:])\n",
    "max_4thcol = np.amax(rvs[:,3])\n",
    "\n",
    "print(min_2ndrow)\n",
    "print(max_4thcol)"
   ]
  },
  {
   "cell_type": "markdown",
   "metadata": {},
   "source": [
    "### 7. Vector without end points\n",
    "\n",
    "Create a vector of size 10 with values ranging from 0 to 1, both excluded."
   ]
  },
  {
   "cell_type": "code",
   "execution_count": 8,
   "metadata": {
    "collapsed": false
   },
   "outputs": [
    {
     "name": "stdout",
     "output_type": "stream",
     "text": [
      "[ 0.09090909  0.18181818  0.27272727  0.36363636  0.45454545  0.54545455\n",
      "  0.63636364  0.72727273  0.81818182  0.90909091]\n"
     ]
    }
   ],
   "source": [
    "v = np.linspace(0,1,11, endpoint = False)[1:]\n",
    "\n",
    "print(v)"
   ]
  },
  {
   "cell_type": "markdown",
   "metadata": {},
   "source": [
    "### 8. Sorted random vector\n",
    "\n",
    "Create a random vector of size 10, then sort it."
   ]
  },
  {
   "cell_type": "code",
   "execution_count": 9,
   "metadata": {
    "collapsed": false
   },
   "outputs": [
    {
     "name": "stdout",
     "output_type": "stream",
     "text": [
      "[ 1  4 11 20 22 25 42 57 73 75]\n"
     ]
    }
   ],
   "source": [
    "np.random.seed(3)\n",
    "v = np.random.randint(1,100,(10,))\n",
    "\n",
    "v_sort = np.sort(v)\n",
    "\n",
    "print(v_sort)"
   ]
  },
  {
   "cell_type": "markdown",
   "metadata": {},
   "source": [
    "### 9. Test for array equality\n",
    "\n",
    "Write a function `is_equal(A, B)` that compare two arrays `A` and `B` and checks to see if they are equal. \n",
    "\n",
    "    return True if two arrays are the same shape and all the elements are equal.\n",
    "    \n",
    "    Inputs:\n",
    "        A, B:  array\n",
    "    Output:\n",
    "        Bool:  True if A and B have the same shape and identical elements.\n",
    "\n",
    "The arrays count as equal if they are the same shape and all elements in the array are equal."
   ]
  },
  {
   "cell_type": "code",
   "execution_count": 10,
   "metadata": {
    "collapsed": false
   },
   "outputs": [
    {
     "name": "stdout",
     "output_type": "stream",
     "text": [
      "True\n"
     ]
    }
   ],
   "source": [
    "def is_equal(A, B):\n",
    "    size_A = A.shape\n",
    "    size_B = B.shape\n",
    "    \n",
    "    if size_A == size_B:\n",
    "        idx = A == B\n",
    "        bool_idx = np.where(idx == False)[0]\n",
    "        if len(bool_idx) == 0:\n",
    "            res = 'True'\n",
    "        else:\n",
    "            res = 'False'\n",
    "    else:\n",
    "        res = 'False'\n",
    "    return res\n",
    "\n",
    "A = np.array([[1,2,3,4,5], [1,2,3,4,5]])\n",
    "B = np.array([[1,2,3,4,5], [1,2,3,4,5]])\n",
    "\n",
    "print(is_equal(A, B))"
   ]
  },
  {
   "cell_type": "markdown",
   "metadata": {},
   "source": [
    "### 10. Subtract the row mean from rows of a matrix\n",
    "\n",
    "Create a matrix. Then subtract the mean of each row of the matrix from the respective row. Do this without using a loop (that is, using array operations)."
   ]
  },
  {
   "cell_type": "code",
   "execution_count": 11,
   "metadata": {
    "collapsed": false
   },
   "outputs": [
    {
     "name": "stdout",
     "output_type": "stream",
     "text": [
      "matrix =  [[79 62 17 74  9 63 28 31 81  8]\n",
      " [77 16 54 81 28 45 78 76 66 48]\n",
      " [31 85 87 19 10 42 63  2 83 17]\n",
      " [79  6 59  1 81  5 37 52 28 32]\n",
      " [ 3 69 39 84 20 19  8 31 63 12]]\n",
      "mean of rows =  [ 45.2  56.9  43.9  38.   34.8]\n",
      "Answer =  [[ 33.8  16.8 -28.2  28.8 -36.2  17.8 -17.2 -14.2  35.8 -37.2]\n",
      " [ 20.1 -40.9  -2.9  24.1 -28.9 -11.9  21.1  19.1   9.1  -8.9]\n",
      " [-12.9  41.1  43.1 -24.9 -33.9  -1.9  19.1 -41.9  39.1 -26.9]\n",
      " [ 41.  -32.   21.  -37.   43.  -33.   -1.   14.  -10.   -6. ]\n",
      " [-31.8  34.2   4.2  49.2 -14.8 -15.8 -26.8  -3.8  28.2 -22.8]]\n"
     ]
    }
   ],
   "source": [
    "np.random.seed(5)\n",
    "mat = np.random.randint(1,100, (5,10))\n",
    "\n",
    "avg = np.mean(mat, axis=1)\n",
    "ans = mat-np.reshape(avg,(5,1))\n",
    "print('matrix = ',mat)\n",
    "print('mean of rows = ',avg)\n",
    "print('Answer = ', ans)"
   ]
  },
  {
   "cell_type": "markdown",
   "metadata": {},
   "source": [
    "### 11. Multiply arrays\n",
    "\n",
    "Multiply an array of dimension (5,5,3) with an array with dimensions (5,5). Then multiply an array of dimension (3,5,5) with an array of dimension (5,5)."
   ]
  },
  {
   "cell_type": "code",
   "execution_count": 12,
   "metadata": {
    "collapsed": false
   },
   "outputs": [
    {
     "name": "stdout",
     "output_type": "stream",
     "text": [
      "multi1.sahpe= (5, 5, 3)\n",
      "multi2.sahpe= (3, 5, 5)\n"
     ]
    }
   ],
   "source": [
    "np.random.seed(2)\n",
    "A1 = np.random.randint(1, 100, (5, 5, 3))\n",
    "B1 = np.random.randint(1, 100, (5, 5))\n",
    "multi1 = A1*B1[:,:,np.newaxis]\n",
    "\n",
    "A2 = A1.T\n",
    "multi2 = A2*B1\n",
    "multi2.shape\n",
    "\n",
    "print('multi1.sahpe=', multi1.shape)\n",
    "\n",
    "print('multi2.sahpe=', multi2.shape)\n"
   ]
  },
  {
   "cell_type": "markdown",
   "metadata": {},
   "source": [
    "### Comments \n",
    "Multiplying a matrix of 5x5x3 with 5x5 results error messages, since last dimension missmatches in broadcasting.\n",
    "To implement the muliplying, the matrix of 5x5 was reshaped to 5x5x1. "
   ]
  },
  {
   "cell_type": "markdown",
   "metadata": {},
   "source": [
    "### 12. Creating a new array\n",
    "\n",
    "Starting with an array\n",
    "\n",
    "    Z = [1,2,3,4,5,6,7,8,9,10,11,12,13,14].\n",
    "    \n",
    "Generate an array \n",
    "\n",
    "    R = [[1,2,3,4], [2,3,4,5], [3,4,5,6], ..., [11,12,13,14]]. "
   ]
  },
  {
   "cell_type": "code",
   "execution_count": 13,
   "metadata": {
    "collapsed": false
   },
   "outputs": [
    {
     "name": "stdout",
     "output_type": "stream",
     "text": [
      "R =  [[  1.   2.   3.   4.]\n",
      " [  2.   3.   4.   5.]\n",
      " [  3.   4.   5.   6.]\n",
      " [  4.   5.   6.   7.]\n",
      " [  5.   6.   7.   8.]\n",
      " [  6.   7.   8.   9.]\n",
      " [  7.   8.   9.  10.]\n",
      " [  8.   9.  10.  11.]\n",
      " [  9.  10.  11.  12.]\n",
      " [ 10.  11.  12.  13.]\n",
      " [ 11.  12.  13.  14.]]\n"
     ]
    }
   ],
   "source": [
    "Z = [1,2,3,4,5,6,7,8,9,10,11,12,13,14]\n",
    "\n",
    "R = np.empty((1,4))\n",
    "\n",
    "for ind in range(0,len(Z)-3):\n",
    "    R_temp = np.asarray(Z[ind:ind+4])\n",
    "    R = np.append(R,[R_temp], axis =0)\n",
    "    \n",
    "R = np.delete(R, 0, axis = 0)\n",
    "    \n",
    "print('R = ', R)"
   ]
  },
  {
   "cell_type": "markdown",
   "metadata": {},
   "source": [
    "### 13. Convert from Cartesian to polar coordinates\n",
    "\n",
    "Write a function `cart2polar(xy)` which takes in an Nx2 matrix of `x, y` pairs representing Cartesian coordinates and return the locations represented in polar coordinates in the same shape matrix. The API is\n",
    "\n",
    "    Return equivalent polar coordinates of specified cartesian points.\n",
    "    \n",
    "    Inputs:\n",
    "        xy: array\n",
    "             Nx2 array of Cartesian coordinates, with columns x and y respectively.\n",
    "\n",
    "    Returns:\n",
    "        rp: array\n",
    "            Nx2 array of polar coordinates, with columns radius and angle respectively\n"
   ]
  },
  {
   "cell_type": "code",
   "execution_count": 14,
   "metadata": {
    "collapsed": false
   },
   "outputs": [
    {
     "name": "stdout",
     "output_type": "stream",
     "text": [
      "cartcoord =  [[-10 -35]\n",
      " [ 22 -28]\n",
      " [ -7  32]\n",
      " [ 25 -43]\n",
      " [-16  -1]\n",
      " [ 45  25]\n",
      " [ 35  -3]\n",
      " [ 13 -19]\n",
      " [ 40 -30]\n",
      " [-13 -11]\n",
      " [ 17 -46]\n",
      " [ -8   1]\n",
      " [-12 -17]\n",
      " [  8  17]\n",
      " [ 19  38]\n",
      " [ 18  -4]\n",
      " [ 20  45]\n",
      " [ 33 -19]\n",
      " [ 16  30]\n",
      " [  2  26]\n",
      " [  0 -46]\n",
      " [ 40  13]\n",
      " [ 29  -1]\n",
      " [-11  -4]\n",
      " [-42   0]\n",
      " [-35 -42]\n",
      " [-33 -28]\n",
      " [ 23   7]\n",
      " [ 40  12]\n",
      " [ 33  46]]\n",
      "polarcoord =  [[  36.40054945 -105.9453959 ]\n",
      " [  35.60898763  -51.84277341]\n",
      " [  32.75667871  102.33908728]\n",
      " [  49.73932046  -59.82647997]\n",
      " [  16.03121954 -176.42366563]\n",
      " [  51.4781507    29.0546041 ]\n",
      " [  35.12833614   -4.89909245]\n",
      " [  23.02172887  -55.61965528]\n",
      " [  50.          -36.86989765]\n",
      " [  17.02938637 -139.76364169]\n",
      " [  49.04079934  -69.71744091]\n",
      " [   8.06225775  172.87498365]\n",
      " [  20.80865205 -125.21759297]\n",
      " [  18.78829423   64.79887635]\n",
      " [  42.48529157   63.43494882]\n",
      " [  18.43908891  -12.52880771]\n",
      " [  49.24428901   66.03751103]\n",
      " [  38.07886553  -29.93151184]\n",
      " [  34.           61.92751306]\n",
      " [  26.07680962   85.60129465]\n",
      " [  46.          -90.        ]\n",
      " [  42.05948169   18.00416161]\n",
      " [  29.01723626   -1.97493401]\n",
      " [  11.70469991 -160.01689348]\n",
      " [  42.          180.        ]\n",
      " [  54.67174773 -129.80557109]\n",
      " [  43.27817002 -139.68589984]\n",
      " [  24.04163056   16.92751306]\n",
      " [  41.76122604   16.69924423]\n",
      " [  56.61271942   54.3446719 ]]\n"
     ]
    }
   ],
   "source": [
    "N = 30 # Number of pairs of coordinates\n",
    "\n",
    "np.random.seed(2)\n",
    "cartcoord = np.random.randint(-50,50,(N,2)) # Randomly genderated coordinates\n",
    "\n",
    "def cart2polar(xy):\n",
    "    dist = np.sqrt((xy[:,0]**2 + xy[:,1]**2))      \n",
    "    radi = np.arctan2(xy[:,1],xy[:,0])*180/np.pi # Returned radious is in degree\n",
    "    polarcoord = np.dstack((dist, radi))\n",
    "    return polarcoord[0]\n",
    "\n",
    "print('cartcoord = ', cartcoord)\n",
    "\n",
    "print('polarcoord = ', cart2polar(cartcoord))\n"
   ]
  },
  {
   "cell_type": "markdown",
   "metadata": {},
   "source": [
    "### 14. Compute and time for loops and array operations.\n",
    "\n",
    "Calculate the time it takes to do what we did in class\n",
    "\n",
    "    a = np.arange(1024.0).reshape(4, 8, 16, 2)   # a 4D array using sequential numbers\n",
    "    b = np.random.rand(4, 8, 16, 2)              # a 4D array using random numbers\n",
    "    sol = a * b  # element-by-element multiplication. This operation is about as fast as it can be on your computer.\n",
    "\n",
    "and the time required for doing the same operation with a series of 4 `for` loops, one for each dimension of the arrays. Compare the times by calculating a ratio."
   ]
  },
  {
   "cell_type": "code",
   "execution_count": 15,
   "metadata": {
    "collapsed": false
   },
   "outputs": [
    {
     "name": "stdout",
     "output_type": "stream",
     "text": [
      "0.0001 seconds have passed for sol1.\n",
      "0.0019 seconds have passed for sol2.\n",
      "Loop takes 14.654343807763402 times more\n"
     ]
    }
   ],
   "source": [
    "import time\n",
    "\n",
    "np.random.seed(15)\n",
    "\n",
    "a = np.arange(1024.0).reshape(4, 8, 16, 2)\n",
    "b = np.random.rand(4, 8, 16, 2) \n",
    "\n",
    "t_start = time.time()\n",
    "\n",
    "sol1= a*b\n",
    "\n",
    "t_stop = time.time()\n",
    "\n",
    "sol1_time = t_stop-t_start\n",
    "\n",
    "\n",
    "print('{:6.4f} seconds have passed for sol1.'.format(sol1_time))\n",
    "\n",
    "sol2 = np.empty([4,8,16,2])\n",
    "\n",
    "t_start = time.time()\n",
    "\n",
    "for i in range(0,4):\n",
    "    for j in range(0,8):\n",
    "        for k in range(0,16):\n",
    "            for l in range(0,2):\n",
    "                sol2[i,j,k,l]=a[i,j,k,l]*b[i,j,k,l]\n",
    "\n",
    "\n",
    "t_stop = time.time()\n",
    "\n",
    "sol2_time = t_stop-t_start\n",
    "\n",
    "print('{:6.4f} seconds have passed for sol2.'.format(sol2_time))\n",
    "\n",
    "\n",
    "print('Loop takes', sol2_time/sol1_time, 'times more') "
   ]
  },
  {
   "cell_type": "markdown",
   "metadata": {},
   "source": [
    "### 15. Fix the code\n",
    "\n",
    "This code needs to be fixed so that it can run properly and pass the assertion test at the bottom. Write out what you changed to make it work and why it needed to be changed."
   ]
  },
  {
   "cell_type": "code",
   "execution_count": 16,
   "metadata": {
    "collapsed": false
   },
   "outputs": [],
   "source": [
    "def calculate(a, b):\n",
    "    \"\"\"Do some calculations\n",
    "    \n",
    "    Take in two arrays, subtract 1/4 of the [:2,:] elements from the elements themselves.\n",
    "    Then multiply with array b and return the result.\n",
    "    \n",
    "    Inputs:\n",
    "        a: input array, shape [MxN]\n",
    "        b: input array, shape [M]\n",
    "    \n",
    "    Returns:\n",
    "        resultant array\n",
    "    \"\"\"\n",
    "\n",
    "    aa = np.copy(a[:2, :]) # np.copy is used not to accfect 'a'\n",
    "    aa /= 4.\n",
    "    a[:2, :] -= aa\n",
    "\n",
    "    return a*b[:,np.newaxis] # np.newaxis is used to multiply elements wise\n",
    "    \n",
    "\n",
    "a = np.ones((3, 2))\n",
    "b = np.ones(3)*3\n",
    "res = calculate(a, b)\n",
    "\n",
    "assert (res == np.array([[ 2.25,  2.25],[ 2.25,  2.25],[ 3., 3.]])).all()"
   ]
  },
  {
   "cell_type": "markdown",
   "metadata": {},
   "source": [
    "### 16. Calculate components of a vector\n",
    "\n",
    "Read in file `data/burl1h2010.txt`. This file gives a bunch of data from a wind station. In particular, read in the wind direction, `WDIR`, and wind speed, `WSPD`. Then, write a function that calculates and returns the `u` and `v` components of this wind vector, which point along the x- and y-axes.\n",
    "\n",
    "The function should have the following basic functionality:\n",
    "\n",
    "    Take in vector and return components.\n",
    "    \n",
    "    Inputs:\n",
    "        vdir: vector direction in degrees\n",
    "        vspd: vector magnitude\n",
    "        \n",
    "    Returns:\n",
    "        u: x component of vector\n",
    "        v: y component of vector\n"
   ]
  },
  {
   "cell_type": "code",
   "execution_count": 17,
   "metadata": {
    "collapsed": false
   },
   "outputs": [
    {
     "name": "stdout",
     "output_type": "stream",
     "text": [
      "u = [ -2.08397511  -1.96070053  -2.12119911 ...,  -9.56084447 -10.50707636\n",
      "  -8.83345912]\n",
      "v = [ 2.1580194   3.01921404  2.52794666 ...,  6.208885    5.5867116   5.1       ]\n"
     ]
    }
   ],
   "source": [
    "data = np.loadtxt('burl1h2010.txt', comments = '#')\n",
    "\n",
    "vdir = data[:,5]\n",
    "vspd = data[:,6]\n",
    "\n",
    "def vecdecomp(vdir, vspd):\n",
    "    u = vspd*np.cos((vdir)*np.pi/180)\n",
    "    v = vspd*np.sin((vdir)*np.pi/180)\n",
    "    return u,v\n",
    "u = vecdecomp(vdir, vspd)[0]\n",
    "v = vecdecomp(vdir, vspd)[1]\n",
    "\n",
    "print('u =',u)\n",
    "print('v =',v)"
   ]
  },
  {
   "cell_type": "markdown",
   "metadata": {},
   "source": [
    "### 17. (Grad) Write and use a class\n",
    "\n",
    "Consider one of the data files located in `python4geosciences/data/MCH/`. Write a class, `dataclass`, to store some of the information in the file. The class should:\n",
    "\n",
    "* be initialized with the name of the file (without file type suffix of .cnv2), and the temperature and salinity values found in the file;\n",
    "* contain a method, `salt_mean`, which returns the mean of the salinity;\n",
    "* contain a method, `temp_max`, which returns the maximum value of the temperature values.\n",
    "\n",
    "Notice that there are many data files in this directory. It would be a lot of work to read them all in by hand. Instead, write a loop which loops through the file names, reads in the necessary data, calls `dataclass` to store the data in a class instance, and adds it to a list of all of the class instances. At the end of your solution, you should have a list of all of the class instances, one for each data file. As usage examples, if your list of data objects is called `wind`, you should be able to access the temperatures from the 3rd file that is read in with\n",
    "\n",
    "    wind[2].temp\n",
    "\n",
    "and you should be able to calculate the mean salinity of the final file with \n",
    "\n",
    "    wind[-1].salt_mean()\n",
    "\n",
    "Hint: Check out the package `glob` for reading in file names with a wild card. "
   ]
  },
  {
   "cell_type": "code",
   "execution_count": 18,
   "metadata": {
    "collapsed": false
   },
   "outputs": [],
   "source": [
    "def fileopen(file):\n",
    "    ''' Open file and extract data values'''\n",
    "    f = open(file)\n",
    "    f.seek(0)\n",
    "\n",
    "    i = 0\n",
    "    for line in f.readlines():\n",
    "        data = line.split('\\t')\n",
    "        if data[0] == '*END*\\n':\n",
    "            str_end = i\n",
    "        i +=1\n",
    "    \n",
    "    f.close()\n",
    "    f = open(file)\n",
    "\n",
    "    data = f.readlines()[str_end+1:]\n",
    "    \n",
    "    return data\n",
    "\n",
    "def data_temp_salt(data):\n",
    "    '''Collect temperature and salinity data and convert those in numeric data'''\n",
    "    temp = []\n",
    "    salt = []\n",
    "\n",
    "    for lines in data:\n",
    "        data_val = lines.split()\n",
    "        temp.append(float(data_val[2]))\n",
    "        salt.append(float(data_val[5]))\n",
    "        \n",
    "    return temp, salt\n",
    "\n",
    "class Dataclass(object):\n",
    "    '''Initialize file name and calcualte salt_mean & temp_max'''\n",
    "    def __init__(self, file, temp, salt):\n",
    "        start_ind = file.index('m')\n",
    "        end_ind = file.index('v')\n",
    "        self.file_name = file[start_ind:end_ind-3]\n",
    "        self.temp = temp\n",
    "        self.salt = salt\n",
    "        \n",
    "    def salt_mean(self):\n",
    "        return np.mean(self.salt)\n",
    "    \n",
    "    def temp_max(self):\n",
    "        return np.amax(self.temp)   "
   ]
  },
  {
   "cell_type": "code",
   "execution_count": 19,
   "metadata": {
    "collapsed": false
   },
   "outputs": [],
   "source": [
    "import glob\n",
    "\n",
    "path = '../../python4geosciences/data/MCH/*.cnv2'\n",
    "\n",
    "data_info = []\n",
    "\n",
    "for file in glob.iglob(path):\n",
    "    data = fileopen(file)\n",
    "    temp, salt = data_temp_salt(data)\n",
    "    data_info.append(Dataclass(file, temp, salt))\n",
    "    "
   ]
  },
  {
   "cell_type": "code",
   "execution_count": 23,
   "metadata": {
    "collapsed": false
   },
   "outputs": [
    {
     "name": "stdout",
     "output_type": "stream",
     "text": [
      "File name =  m1001c\n",
      "Salt_mean of m1001c = 24.6588294118\n",
      "Temp_max of m1001c = 22.1201\n"
     ]
    }
   ],
   "source": [
    "print('File name = ', data_info[1].file_name)\n",
    "print('Salt_mean of', data_info[1].file_name, '=', data_info[0].salt_mean())\n",
    "print('Temp_max of', data_info[1].file_name, '=', data_info[0].temp_max())"
   ]
  },
  {
   "cell_type": "markdown",
   "metadata": {},
   "source": [
    "### 18. (Grad) Running mean\n",
    "\n",
    "Write a function that computes averages using a sliding window over a vector; that is, it should take in a vector and for every element in the vector, compute the average of that point with the N points on either side of the element. N should also be an input parameter, and the function should return the original vector if N=0. The returned vector should be the same size as the input vector.\n",
    "\n",
    "Do not use the `pandas` package or the function `convolve`; instead, use a loop. Use the following API for your function:\n",
    "\n",
    "    Return the running average of a vector, with averaging window of size N.\n",
    "    \n",
    "    Inputs:\n",
    "        vec: Input vector\n",
    "        N (int): Averaging window size, or number of elements to include in mean on either side of each element.\n",
    "    \n",
    "    Outputs:\n",
    "        out: Vector of running-averaged values; same size as vec\n"
   ]
  },
  {
   "cell_type": "code",
   "execution_count": 24,
   "metadata": {
    "collapsed": false
   },
   "outputs": [
    {
     "name": "stdout",
     "output_type": "stream",
     "text": [
      "Vector size =  50\n",
      "Moving averaged size =  50\n"
     ]
    },
    {
     "data": {
      "text/plain": [
       "<matplotlib.legend.Legend at 0x10cbd2be0>"
      ]
     },
     "execution_count": 24,
     "metadata": {},
     "output_type": "execute_result"
    },
    {
     "data": {
      "image/png": "[encoded data removed]",
      "text/plain": [
       "<matplotlib.figure.Figure at 0x10c728208>"
      ]
     },
     "metadata": {},
     "output_type": "display_data"
    }
   ],
   "source": [
    "np.random.seed(15)\n",
    "\n",
    "x = np.linspace(0,1,50)\n",
    "\n",
    "y = np.sin(x*2*np.pi) + np.random.randn(50,)\n",
    "\n",
    "\n",
    "def movingavg(vec, n):\n",
    "    circular_vec = np.tile(vec, 2) # To consider all elements (end effect) at whatever window-size, the input vector is tiled\n",
    "    avg = []\n",
    "    for ii in range(0,len(vec)):\n",
    "        \n",
    "        avg.append(np.mean(circular_vec[ii:ii+n+1]))\n",
    "\n",
    "    return avg\n",
    "\n",
    "vec = y\n",
    "\n",
    "n = 10\n",
    "\n",
    "mavg = movingavg(vec, n)\n",
    "\n",
    "print('Vector size = ', len(vec))\n",
    "print('Moving averaged size = ', len(mavg))\n",
    "\n",
    "fig = plt.figure()\n",
    "ax = fig.add_subplot(111)\n",
    "ax.plot(x, y, label = 'Original Vector')\n",
    "ax.plot(x, mavg, 'r--', label = 'Moving Averaged')\n",
    "ax.legend()"
   ]
  },
  {
   "cell_type": "code",
   "execution_count": null,
   "metadata": {
    "collapsed": true
   },
   "outputs": [],
   "source": []
  }
 ],
 "metadata": {
  "kernelspec": {
   "display_name": "Python 3",
   "language": "python",
   "name": "python3"
  },
  "language_info": {
   "codemirror_mode": {
    "name": "ipython",
    "version": 3
   },
   "file_extension": ".py",
   "mimetype": "text/x-python",
   "name": "python",
   "nbconvert_exporter": "python",
   "pygments_lexer": "ipython3",
   "version": "3.4.4"
  }
 },
 "nbformat": 4,
 "nbformat_minor": 0
}
