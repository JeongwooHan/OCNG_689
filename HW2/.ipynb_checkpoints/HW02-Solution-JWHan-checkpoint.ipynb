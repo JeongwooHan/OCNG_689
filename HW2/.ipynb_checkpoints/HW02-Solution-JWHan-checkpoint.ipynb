{
 "cells": [
  {
   "cell_type": "markdown",
   "metadata": {},
   "source": [
    "# Homework 02"
   ]
  },
  {
   "cell_type": "markdown",
   "metadata": {},
   "source": [
    "### 1. Make a dictionary\n",
    "\n",
    "Make a dictionary, d, whose keys and values are your name, hometown, department, student status (undergrad/grad), years at TAMU, and explanation of why you are taking this class."
   ]
  },
  {
   "cell_type": "code",
   "execution_count": 1,
   "metadata": {
    "collapsed": false
   },
   "outputs": [
    {
     "name": "stdout",
     "output_type": "stream",
     "text": [
      "{'department': 'Civil Engineering', 'name': 'Jeongwoo Han', 'student status': 'Grad', 'purpose': 'I wanted to learn Python and use it for my research', 'hometown': 'Seoul in South Korea', 'years at TAMU': '1st year'}\n",
      "dict_keys(['department', 'name', 'student status', 'purpose', 'hometown', 'years at TAMU'])\n",
      "dict_values(['Civil Engineering', 'Jeongwoo Han', 'Grad', 'I wanted to learn Python and use it for my research', 'Seoul in South Korea', '1st year'])\n"
     ]
    }
   ],
   "source": [
    "d = {}\n",
    "d['name'] = 'Jeongwoo Han'\n",
    "d['hometown'] = 'Seoul in South Korea'\n",
    "d['department'] = 'Civil Engineering'\n",
    "d['student status'] = 'Grad'\n",
    "d['years at TAMU'] = '1st year'\n",
    "d['purpose'] = 'I wanted to learn Python and use it for my research'\n",
    "\n",
    "print(d)\n",
    "print(d.keys())\n",
    "print(d.values())"
   ]
  },
  {
   "cell_type": "markdown",
   "metadata": {},
   "source": [
    "### 2. Test for vowels\n",
    "\n",
    "Write a function that takes a character (i.e. a string of length 1) and returns True if it is a vowel, False otherwise. For example,\n",
    "    >>> isVowel(\"a\")\n",
    "    True\n",
    "    >>> isVowel(\"b\")\n",
    "    False\n",
    "\n",
    "You can compare the input character with a known list of vowels. Don't forget about case!"
   ]
  },
  {
   "cell_type": "code",
   "execution_count": 2,
   "metadata": {
    "collapsed": false
   },
   "outputs": [
    {
     "data": {
      "text/plain": [
       "True"
      ]
     },
     "execution_count": 2,
     "metadata": {},
     "output_type": "execute_result"
    }
   ],
   "source": [
    "vowel_list = [\"a\", \"A\", \"e\", \"E\", \"i\", \"I\", \"o\", \"O\", \"u\", \"U\", \"y\", \"Y\"]\n",
    "\n",
    "def isVowel(string, vowel = vowel_list):\n",
    "    ans = string in vowel\n",
    "    return ans\n",
    "\n",
    "string = \"a\"\n",
    "\n",
    "isVowel(string)\n"
   ]
  },
  {
   "cell_type": "markdown",
   "metadata": {},
   "source": [
    "### 3. Compute the length of a given list or string.\n",
    "\n",
    "Define a function that computes the length of a given list or string. (It is true that Python has the len() function built in, but do not use it for your solution — use a loop instead.)\n",
    "\n",
    "For example:\n",
    "    >>> length(['string1', 'string2'])\n",
    "    2\n",
    "    >>> length('string1')\n",
    "    7"
   ]
  },
  {
   "cell_type": "code",
   "execution_count": 3,
   "metadata": {
    "collapsed": false
   },
   "outputs": [
    {
     "name": "stdout",
     "output_type": "stream",
     "text": [
      "2\n",
      "7\n"
     ]
    }
   ],
   "source": [
    "def howlong(variables):\n",
    "    ans = 0\n",
    "    for i in variables:\n",
    "        ans += 1\n",
    "    return ans\n",
    "        \n",
    "variables1 = ['string1', 'string2'] # To test a type of list\n",
    "\n",
    "variables2 = 'string1' # Tp test a type of string\n",
    "\n",
    "print(howlong(variables1))\n",
    "print(howlong(variables2))\n",
    "        "
   ]
  },
  {
   "cell_type": "markdown",
   "metadata": {},
   "source": [
    "### 4. Reverse a string\n",
    "\n",
    "Define a function reverse() that computes the reversal of a string. For example, \n",
    "    >>> reverse(\"I am testing\")\n",
    "    \"gnitset ma I\""
   ]
  },
  {
   "cell_type": "code",
   "execution_count": 4,
   "metadata": {
    "collapsed": false
   },
   "outputs": [
    {
     "data": {
      "text/plain": [
       "'gnitset ma I'"
      ]
     },
     "execution_count": 4,
     "metadata": {},
     "output_type": "execute_result"
    }
   ],
   "source": [
    "string = \"I am testing\"\n",
    "\n",
    "def reverse(string):\n",
    "    sentence = ''\n",
    "    for i in string[::-1]:\n",
    "        sentence += i\n",
    "    return sentence\n",
    "\n",
    "reverse(string)"
   ]
  },
  {
   "cell_type": "markdown",
   "metadata": {},
   "source": [
    "### 5. Check for palindromes\n",
    "\n",
    "Define a function is_palindrome() that recognizes palindromes (i.e. words and phrases that look the same written forwards and backwards). Make sure that case and spaces are ignored in your function; for example,\n",
    "    >>> is_palindrome(\"Never odd or even\")\n",
    "    True\n",
    "\n",
    "You can use your solution to #4 for solving this problem."
   ]
  },
  {
   "cell_type": "code",
   "execution_count": 5,
   "metadata": {
    "collapsed": false
   },
   "outputs": [
    {
     "name": "stdout",
     "output_type": "stream",
     "text": [
      "neveroddoreven\n",
      "neveroddoreven\n",
      "True\n"
     ]
    }
   ],
   "source": [
    "string = \"Never odd or even\"\n",
    "\n",
    "def is_palindrome(string):\n",
    "    sentence = ''\n",
    "    for i in string[::-1]:\n",
    "        sentence += i\n",
    "    sentence = sentence.lower()\n",
    "    string = string.lower()\n",
    "    \n",
    "    sentence = sentence.replace(\" \",\"\")\n",
    "    string = string.replace(\" \",\"\")\n",
    "    \n",
    "    ans = string == sentence\n",
    "    \n",
    "    print(sentence)\n",
    "    print(string)\n",
    "    \n",
    "    return ans\n",
    "\n",
    "print(is_palindrome(string))\n",
    "    "
   ]
  },
  {
   "cell_type": "markdown",
   "metadata": {},
   "source": [
    "### 6. Number lines in a text file\n",
    "\n",
    "Write a script (i.e., just code, no need to write a function) that numbers all of the lines in a text file, skipping empty lines, and writes the output to another specified file. The output file might look something like\n",
    "\n",
    "    1    This is the first line\n",
    "    2    This is the second line\n",
    "    \n",
    "    3    This is the fourth line\n",
    "\n",
    "where the third line is empty, and not counted."
   ]
  },
  {
   "cell_type": "code",
   "execution_count": 6,
   "metadata": {
    "collapsed": false
   },
   "outputs": [
    {
     "name": "stdout",
     "output_type": "stream",
     "text": [
      "1 Line1 for homework\n",
      "2 Line2 for homework\n",
      "3 Line3 for homework\n",
      "4 Line4 for homework\n",
      "5 Line6 for homework\n",
      "6 Line7 for homework\n",
      "7 Line9 for homework\n",
      "8 Line10 for homework\n"
     ]
    }
   ],
   "source": [
    "f = open('lines_homework.txt') \n",
    "f1 = open('output_homework.txt', 'w')\n",
    "\n",
    "f.seek(0)\n",
    "\n",
    "it_num = 0\n",
    "\n",
    "for line in f.readlines():\n",
    "    data = line.split()\n",
    "    if not data: continue\n",
    "    it_num +=1\n",
    "    \n",
    "    sumwords =str(it_num) + ' ' + data[0] + ' ' + data[1] + ' ' + data[2] \n",
    "    \n",
    "    print(sumwords)\n",
    "      \n",
    "    f1.write('%10s' % (sumwords+'\\n'))\n",
    "        \n",
    "f.close()\n",
    "f1.close()\n",
    "\n",
    "    "
   ]
  },
  {
   "cell_type": "markdown",
   "metadata": {},
   "source": [
    "### 7. Convert list of words into list of integers of length of words\n",
    "\n",
    "Write a series of functions that maps a list of words into a list of integers representing the lengths of the correponding words. Write them in three different ways: \n",
    "\n",
    "1. using a for-loop\n",
    "\n",
    "2. using the higher order function map(), and \n",
    "\n",
    "3. using list comprehensions. \n",
    "\n",
    "Do not use the len() function.\n",
    "\n",
    "For example,\n",
    "\n",
    "    >>> method1(['list', 'of', 'words'])\n",
    "    [4, 2, 5]"
   ]
  },
  {
   "cell_type": "code",
   "execution_count": 7,
   "metadata": {
    "collapsed": false
   },
   "outputs": [
    {
     "name": "stdout",
     "output_type": "stream",
     "text": [
      "[4, 2, 5]\n",
      "[4, 2, 5]\n",
      "[4, 2, 5]\n"
     ]
    }
   ],
   "source": [
    "words_list = ['list', 'of', 'words']\n",
    "\n",
    "class Wordslength(object):\n",
    "    def __init__(self, words_list):\n",
    "        self.words = words_list\n",
    "        \n",
    "    def method1(self):\n",
    "        '''using a for-loop'''\n",
    "        length = []\n",
    "        for i in self.words:\n",
    "            length1 = sum(1 for j in i)\n",
    "            length.append(length1)\n",
    "        return length\n",
    "    \n",
    "    def method2(self):\n",
    "        '''using function map()'''\n",
    "        def len_func(x):\n",
    "            a = 0 \n",
    "            for i in x:\n",
    "                a += 1\n",
    "            return a\n",
    "        length = list(map(len_func, self.words)) \n",
    "        return length\n",
    "    \n",
    "    def method3(self):\n",
    "        '''using list comprehensions'''\n",
    "        length = [sum(1 for j in i) for i in self.words]\n",
    "        return length\n",
    "             \n",
    "            \n",
    "count_words = Wordslength(words_list)\n",
    "print(count_words.method1())\n",
    "print(count_words.method2())\n",
    "print(count_words.method3())\n"
   ]
  },
  {
   "cell_type": "markdown",
   "metadata": {},
   "source": [
    "### 8. Encode and decode using ROT-13\n",
    "\n",
    "In cryptography, a Caesar cipher is a very simple encryption techniques in which each letter in the plain text is replaced by a letter some fixed number of positions down the alphabet. For example, with a shift of 3, A would be replaced by D, B would become E, and so on. The method is named after Julius Caesar, who used it to communicate with his generals. ROT-13 (\"rotate by 13 places\") is a widely used example of a Caesar cipher where the shift is 13. In Python, the key for ROT-13 may be represented by means of the following dictionary:\n",
    "\n",
    "    key = {'a':'n', 'b':'o', 'c':'p', 'd':'q', 'e':'r', 'f':'s', 'g':'t', 'h':'u', \n",
    "           'i':'v', 'j':'w', 'k':'x', 'l':'y', 'm':'z', 'n':'a', 'o':'b', 'p':'c', \n",
    "           'q':'d', 'r':'e', 's':'f', 't':'g', 'u':'h', 'v':'i', 'w':'j', 'x':'k',\n",
    "           'y':'l', 'z':'m', 'A':'N', 'B':'O', 'C':'P', 'D':'Q', 'E':'R', 'F':'S', \n",
    "           'G':'T', 'H':'U', 'I':'V', 'J':'W', 'K':'X', 'L':'Y', 'M':'Z', 'N':'A', \n",
    "           'O':'B', 'P':'C', 'Q':'D', 'R':'E', 'S':'F', 'T':'G', 'U':'H', 'V':'I', \n",
    "           'W':'J', 'X':'K', 'Y':'L', 'Z':'M'}\n",
    "\n",
    "Your task in this exercise is to implement an encoder/decoder of ROT-13. Once you're done, you will be able to read the following secret message:\n",
    "\n",
    "       Pnrfne pvcure? V zhpu cersre Pnrfne fnynq!\n",
    "\n",
    "Note that since English has 26 characters, your ROT-13 program will be able to both encode and decode texts written in English."
   ]
  },
  {
   "cell_type": "code",
   "execution_count": 8,
   "metadata": {
    "collapsed": false
   },
   "outputs": [
    {
     "name": "stdout",
     "output_type": "stream",
     "text": [
      "Caesar cipher? I much prefer Caesar salad!\n"
     ]
    }
   ],
   "source": [
    "key = {'a':'n', 'b':'o', 'c':'p', 'd':'q', 'e':'r', 'f':'s', 'g':'t', 'h':'u', \n",
    "       'i':'v', 'j':'w', 'k':'x', 'l':'y', 'm':'z', 'n':'a', 'o':'b', 'p':'c', \n",
    "       'q':'d', 'r':'e', 's':'f', 't':'g', 'u':'h', 'v':'i', 'w':'j', 'x':'k',\n",
    "       'y':'l', 'z':'m', 'A':'N', 'B':'O', 'C':'P', 'D':'Q', 'E':'R', 'F':'S', \n",
    "       'G':'T', 'H':'U', 'I':'V', 'J':'W', 'K':'X', 'L':'Y', 'M':'Z', 'N':'A', \n",
    "       'O':'B', 'P':'C', 'Q':'D', 'R':'E', 'S':'F', 'T':'G', 'U':'H', 'V':'I', \n",
    "       'W':'J', 'X':'K', 'Y':'L', 'Z':'M'}\n",
    "\n",
    "secret = 'Pnrfne pvcure? V zhpu cersre Pnrfne fnynq!'\n",
    "\n",
    "message = \"\"\n",
    "for letter in secret:\n",
    "    if (letter in key.keys()) is False:\n",
    "        message += letter\n",
    "    else:\n",
    "        message += key[letter]\n",
    "   \n",
    "print(message)"
   ]
  },
  {
   "cell_type": "markdown",
   "metadata": {},
   "source": [
    "### 9. Fix the code\n",
    "\n",
    "\"99 Bottles of Beer\" is a traditional song in the United States and Canada. It is popular to sing on long trips, as it has a very repetitive format which is easy to memorize, and can take a long time to sing. The song's simple lyrics are as follows:\n",
    "\n",
    "99 bottles of beer on the wall, 99 bottles of beer.\n",
    "Take one down, pass it around, 98 bottles of beer on the wall.\n",
    "\n",
    "The same verse is repeated, each time with one fewer bottle. The song is completed when the singer or singers reach zero.\n",
    "\n",
    "Code to generate all verses of this song has already been written and is provided below. However, it has several problems in it that prevent it from running properly. Your task is to fix the code, keeping a list of what you change, so that the code generates 3 verses of the song."
   ]
  },
  {
   "cell_type": "code",
   "execution_count": 9,
   "metadata": {
    "collapsed": false
   },
   "outputs": [
    {
     "name": "stdout",
     "output_type": "stream",
     "text": [
      "3 bottles of beer on the wall, 3 bottles of beer.\n",
      "Take one down, pass it around, 2 bottles of beer on the wall.\n",
      "\n",
      "2 bottles of beer on the wall, 2 bottles of beer.\n",
      "Take one down, pass it around, 1 bottles of beer on the wall.\n",
      "\n",
      "1 bottle of beer on the wall, 1 bottle of beer.\n",
      "Take one down, pass it around, 0 bottles of beer on the wall.\n",
      "\n"
     ]
    }
   ],
   "source": [
    "def words(num):\n",
    "    \"\"\"Returns words with proper number of beer bottles filled in.\"\"\"\n",
    "    \n",
    "    if num != 1: # : was omitted\n",
    "        return str(num) + ' bottles of beer on the wall, ' + str(num) + ' bottles of beer.\\n' + \\\n",
    "            'Take one down, pass it around, ' + str(num-1) + ' bottles of beer on the wall.\\n'\n",
    "#Line change '\\' was omitted\n",
    "    elif num == 1: # '=' was replaced with '=='\n",
    "        return str(num) + ' bottle of beer on the wall, ' + str(num) + ' bottle of beer.\\n' + \\\n",
    "            'Take one down, pass it around, ' + str(num-1) + ' bottles of beer on the wall.\\n'\n",
    "\n",
    "\n",
    "numbottles = 3\n",
    "        \n",
    "for i in range(numbottles,0,-1): # : was omitted, [] was replace with ()\n",
    "    print(words(i)) # Wrong indentation"
   ]
  },
  {
   "cell_type": "markdown",
   "metadata": {},
   "source": [
    "### 10. Reading in and parsing a file\n",
    "\n",
    "Read in `data/GPS.dat`, a file containing GPS track information. This file is tab-delimited, but contains other characters as well. It has data from several drifters, whose names are listed in the file after the TRACK label; the first is named \"ACTIVE LOG\". \n",
    "\n",
    "Read in the date and time information from the file for the drifter ACTIVE LOG, and form a list of datetime objects with this information, where each line in the file is a data point that should have its own datetime object.\n",
    "\n",
    "*_Grad students:_* Separately, read in the locations and speed at all data points for each drifter. Create a dictionary with the name of each track as a key. The value of the dictionary will be another dictionary that has keys `latitude`, `longitude`, and `speed`.  That is, `gps['GANDALF']['speed']` will return a list containing a timeseries of the speed of that track."
   ]
  },
  {
   "cell_type": "markdown",
   "metadata": {},
   "source": [
    "###  (1) Extracting time"
   ]
  },
  {
   "cell_type": "code",
   "execution_count": 10,
   "metadata": {
    "collapsed": false
   },
   "outputs": [
    {
     "name": "stdout",
     "output_type": "stream",
     "text": [
      "[[ 2006.     5.    20.    13.    34.    55.]\n",
      " [ 2006.     5.    20.    13.    35.    10.]\n",
      " [ 2006.     5.    20.    13.    35.    25.]\n",
      " ..., \n",
      " [ 2006.     5.    20.    15.    31.    32.]\n",
      " [ 2006.     5.    20.    15.    31.    47.]\n",
      " [ 2006.     5.    20.    15.    31.    48.]]\n"
     ]
    }
   ],
   "source": [
    "import numpy as np\n",
    "from dateutil import parser\n",
    "\n",
    "f = open('GPS.dat')\n",
    "\n",
    "f.seek(0)\n",
    "\n",
    "datetime = np.zeros((1,6))\n",
    "for line in f.readlines():\n",
    "    data = line.split()\n",
    "    if not data: continue  \n",
    "    if data[0] == 'Trackpoint':\n",
    "        datetime_temp = data[5] + ' ' + data[6] + ' ' + data[7] \n",
    "        datetime_conv = parser.parse(datetime_temp)\n",
    "        datetime_line = [datetime_conv.year, datetime_conv.month, datetime_conv.day,\\\n",
    "                         datetime_conv.hour, datetime_conv.minute, datetime_conv.second ]\n",
    "        datetime = np.append(datetime, [datetime_line], axis = 0)\n",
    "    if data[1] == 'LEGOLAS': break\n",
    "        \n",
    "datetime = np.delete(datetime, 0, axis = 0)\n",
    "\n",
    "f.close()\n",
    "\n",
    "print(datetime)\n",
    "    "
   ]
  },
  {
   "cell_type": "markdown",
   "metadata": {},
   "source": [
    "### (2) Extracting info. of Latitude, Longitude and Speed\n"
   ]
  },
  {
   "cell_type": "code",
   "execution_count": 11,
   "metadata": {
    "collapsed": false
   },
   "outputs": [
    {
     "name": "stdout",
     "output_type": "stream",
     "text": [
      "dict_keys(['MERIADOC', 'LEGOLAS', 'ACTIVE', 'STRIDER', 'SAMWISE'])\n"
     ]
    }
   ],
   "source": [
    "f = open('GPS.dat')\n",
    "f.seek(0)\n",
    "\n",
    "drifter = {}\n",
    "\n",
    "for line in f.readlines():\n",
    "    data = line.split()\n",
    "    if not data: continue\n",
    "    if data[0] == 'Track':\n",
    "        drifter[str(data[1])] = {'LAT':[], 'LONG':[], 'SPEED':[]}\n",
    "        \n",
    "f.close()\n",
    "\n",
    "#print(drifter)\n",
    "print(drifter.keys())"
   ]
  },
  {
   "cell_type": "markdown",
   "metadata": {},
   "source": [
    "#### Regarding a speed, -999 was marked to indicate missing values or no data"
   ]
  },
  {
   "cell_type": "code",
   "execution_count": 12,
   "metadata": {
    "collapsed": false
   },
   "outputs": [],
   "source": [
    "f = open('GPS.dat')\n",
    "f.seek(0)\n",
    "\n",
    "for fline in f.readlines():\n",
    "    data = fline.split()\n",
    "    if not data: continue\n",
    "    if data[0] == 'Track':\n",
    "        drifter_name = data[1]\n",
    "    if data[0] == 'Trackpoint':\n",
    "        drifter[drifter_name]['LAT'] += [int(data[1][1:]) + float(data[2])/60]\n",
    "        drifter[drifter_name]['LONG'] += [int(data[3][1:]) + float(data[4])/60]\n",
    "        if data[-3] == 'mph':\n",
    "            drifter[drifter_name]['SPEED'] += [float(data[-4])]\n",
    "        else:\n",
    "            drifter[drifter_name]['SPEED'] += [-999] #-999 indicates no-data or missing\n",
    "f.close()\n"
   ]
  },
  {
   "cell_type": "code",
   "execution_count": 13,
   "metadata": {
    "collapsed": false
   },
   "outputs": [
    {
     "data": {
      "text/plain": [
       "[42.83036666666667,\n",
       " 42.830333333333336,\n",
       " 42.83035,\n",
       " 42.8304,\n",
       " 42.830416666666665,\n",
       " 42.8304,\n",
       " 42.83035,\n",
       " 42.83035,\n",
       " 42.83035,\n",
       " 42.83026666666667,\n",
       " 42.83011666666667,\n",
       " 42.8299,\n",
       " 42.82973333333333,\n",
       " 42.8296,\n",
       " 42.829683333333335,\n",
       " 42.829766666666664,\n",
       " 42.82966666666667,\n",
       " 42.82945,\n",
       " 42.829166666666666,\n",
       " 42.828916666666665,\n",
       " 42.82865,\n",
       " 42.82835,\n",
       " 42.82805,\n",
       " 42.8278,\n",
       " 42.827533333333335,\n",
       " 42.827283333333334,\n",
       " 42.82705,\n",
       " 42.82685,\n",
       " 42.82666666666667,\n",
       " 42.82641666666667,\n",
       " 42.826233333333334,\n",
       " 42.826033333333335,\n",
       " 42.82581666666667,\n",
       " 42.8256,\n",
       " 42.82541666666667,\n",
       " 42.82521666666667,\n",
       " 42.824983333333336,\n",
       " 42.82476666666667,\n",
       " 42.82455,\n",
       " 42.82438333333333,\n",
       " 42.8242,\n",
       " 42.823933333333336,\n",
       " 42.8237,\n",
       " 42.82353333333333,\n",
       " 42.82335,\n",
       " 42.82313333333333,\n",
       " 42.82295,\n",
       " 42.82275,\n",
       " 42.82256666666667,\n",
       " 42.82236666666667,\n",
       " 42.82215,\n",
       " 42.82196666666667,\n",
       " 42.821783333333336,\n",
       " 42.821616666666664,\n",
       " 42.82145,\n",
       " 42.821266666666666,\n",
       " 42.82106666666667,\n",
       " 42.82086666666667,\n",
       " 42.82073333333334,\n",
       " 42.820616666666666,\n",
       " 42.820433333333334,\n",
       " 42.820283333333336,\n",
       " 42.82013333333333,\n",
       " 42.81998333333333,\n",
       " 42.81985,\n",
       " 42.8197,\n",
       " 42.8195,\n",
       " 42.819316666666666,\n",
       " 42.81923333333334,\n",
       " 42.81923333333334,\n",
       " 42.81921666666667,\n",
       " 42.81908333333333,\n",
       " 42.818933333333334,\n",
       " 42.81875,\n",
       " 42.818533333333335,\n",
       " 42.81831666666667,\n",
       " 42.81818333333333,\n",
       " 42.81811666666667,\n",
       " 42.81803333333333,\n",
       " 42.81786666666667,\n",
       " 42.81766666666667,\n",
       " 42.81751666666667,\n",
       " 42.81741666666667,\n",
       " 42.81735,\n",
       " 42.81726666666667,\n",
       " 42.81706666666667,\n",
       " 42.816833333333335,\n",
       " 42.816633333333336,\n",
       " 42.81645,\n",
       " 42.816266666666664,\n",
       " 42.81603333333334,\n",
       " 42.815783333333336,\n",
       " 42.81551666666667,\n",
       " 42.815266666666666,\n",
       " 42.81503333333333,\n",
       " 42.81475,\n",
       " 42.81446666666667,\n",
       " 42.8142,\n",
       " 42.813916666666664,\n",
       " 42.81368333333333,\n",
       " 42.81345,\n",
       " 42.813266666666664,\n",
       " 42.81313333333333,\n",
       " 42.81308333333333,\n",
       " 42.81296666666667,\n",
       " 42.812866666666665,\n",
       " 42.81288333333333,\n",
       " 42.81296666666667,\n",
       " 42.8131,\n",
       " 42.813183333333335,\n",
       " 42.8132,\n",
       " 42.81316666666667,\n",
       " 42.81308333333333,\n",
       " 42.81295,\n",
       " 42.8128,\n",
       " 42.81271666666667,\n",
       " 42.81268333333333,\n",
       " 42.812733333333334,\n",
       " 42.812866666666665,\n",
       " 42.81296666666667,\n",
       " 42.8131,\n",
       " 42.8132,\n",
       " 42.813316666666665,\n",
       " 42.81341666666667,\n",
       " 42.81355,\n",
       " 42.813633333333335,\n",
       " 42.813716666666664,\n",
       " 42.813833333333335,\n",
       " 42.81393333333333,\n",
       " 42.81406666666667,\n",
       " 42.814166666666665,\n",
       " 42.814283333333336,\n",
       " 42.81435,\n",
       " 42.8144,\n",
       " 42.814433333333334,\n",
       " 42.81453333333333,\n",
       " 42.81475,\n",
       " 42.81491666666667,\n",
       " 42.815,\n",
       " 42.8151,\n",
       " 42.815266666666666,\n",
       " 42.81535,\n",
       " 42.815216666666664,\n",
       " 42.81505,\n",
       " 42.814883333333334,\n",
       " 42.814766666666664,\n",
       " 42.81466666666667,\n",
       " 42.81451666666667,\n",
       " 42.81445,\n",
       " 42.81446666666667,\n",
       " 42.8146,\n",
       " 42.81465,\n",
       " 42.814616666666666,\n",
       " 42.8146,\n",
       " 42.81458333333333,\n",
       " 42.81455,\n",
       " 42.81455,\n",
       " 42.81453333333333,\n",
       " 42.81453333333333,\n",
       " 42.81451666666667,\n",
       " 42.81451666666667,\n",
       " 42.81451666666667,\n",
       " 42.81453333333333,\n",
       " 42.81453333333333,\n",
       " 42.81453333333333,\n",
       " 42.81453333333333,\n",
       " 42.81453333333333,\n",
       " 42.81455,\n",
       " 42.81455,\n",
       " 42.81455,\n",
       " 42.81455,\n",
       " 42.81458333333333,\n",
       " 42.81458333333333,\n",
       " 42.81458333333333,\n",
       " 42.8146,\n",
       " 42.8146,\n",
       " 42.8146,\n",
       " 42.8146,\n",
       " 42.814616666666666,\n",
       " 42.814616666666666,\n",
       " 42.81465,\n",
       " 42.81465,\n",
       " 42.81465,\n",
       " 42.81466666666667,\n",
       " 42.81466666666667,\n",
       " 42.81466666666667,\n",
       " 42.81466666666667,\n",
       " 42.81466666666667,\n",
       " 42.814683333333335,\n",
       " 42.814683333333335,\n",
       " 42.814683333333335,\n",
       " 42.814683333333335,\n",
       " 42.814683333333335,\n",
       " 42.8147,\n",
       " 42.8147,\n",
       " 42.814683333333335,\n",
       " 42.8147,\n",
       " 42.8148,\n",
       " 42.81496666666666,\n",
       " 42.81511666666667,\n",
       " 42.815133333333335,\n",
       " 42.81525,\n",
       " 42.815333333333335,\n",
       " 42.81536666666667,\n",
       " 42.81543333333333,\n",
       " 42.8155,\n",
       " 42.81556666666667,\n",
       " 42.81565,\n",
       " 42.8157,\n",
       " 42.8157,\n",
       " 42.81556666666667,\n",
       " 42.81543333333333,\n",
       " 42.81536666666667,\n",
       " 42.81535,\n",
       " 42.81535,\n",
       " 42.815333333333335,\n",
       " 42.81531666666667,\n",
       " 42.81528333333333,\n",
       " 42.815266666666666,\n",
       " 42.81525,\n",
       " 42.815216666666664,\n",
       " 42.8152,\n",
       " 42.81518333333333,\n",
       " 42.81516666666667,\n",
       " 42.815133333333335,\n",
       " 42.8151,\n",
       " 42.81506666666667,\n",
       " 42.81503333333333,\n",
       " 42.815,\n",
       " 42.81498333333333,\n",
       " 42.81495,\n",
       " 42.81491666666667,\n",
       " 42.8149,\n",
       " 42.814883333333334,\n",
       " 42.81483333333333,\n",
       " 42.81483333333333,\n",
       " 42.814816666666665,\n",
       " 42.8148,\n",
       " 42.814766666666664,\n",
       " 42.81475,\n",
       " 42.814733333333336,\n",
       " 42.8147,\n",
       " 42.814683333333335,\n",
       " 42.81466666666667,\n",
       " 42.81465,\n",
       " 42.81465,\n",
       " 42.814616666666666,\n",
       " 42.8146,\n",
       " 42.81458333333333,\n",
       " 42.81455,\n",
       " 42.81453333333333,\n",
       " 42.81451666666667,\n",
       " 42.8145,\n",
       " 42.81445,\n",
       " 42.814433333333334,\n",
       " 42.8144,\n",
       " 42.81438333333333,\n",
       " 42.814366666666665,\n",
       " 42.81435,\n",
       " 42.81431666666667,\n",
       " 42.8143,\n",
       " 42.814283333333336,\n",
       " 42.81425,\n",
       " 42.814233333333334,\n",
       " 42.81421666666667,\n",
       " 42.8142,\n",
       " 42.814166666666665,\n",
       " 42.81415,\n",
       " 42.81413333333333,\n",
       " 42.8141,\n",
       " 42.814083333333336,\n",
       " 42.81406666666667,\n",
       " 42.81405,\n",
       " 42.814,\n",
       " 42.81398333333333,\n",
       " 42.81395,\n",
       " 42.813916666666664,\n",
       " 42.8139,\n",
       " 42.81386666666667,\n",
       " 42.81385,\n",
       " 42.813833333333335,\n",
       " 42.8138,\n",
       " 42.81378333333333,\n",
       " 42.813766666666666,\n",
       " 42.81375,\n",
       " 42.813716666666664,\n",
       " 42.8137,\n",
       " 42.8137,\n",
       " 42.81368333333333,\n",
       " 42.81365,\n",
       " 42.813633333333335,\n",
       " 42.81361666666667,\n",
       " 42.8136,\n",
       " 42.81356666666667,\n",
       " 42.81353333333333,\n",
       " 42.8135,\n",
       " 42.81348333333333,\n",
       " 42.81346666666666,\n",
       " 42.81341666666667,\n",
       " 42.8134,\n",
       " 42.813383333333334,\n",
       " 42.81335,\n",
       " 42.81333333333333,\n",
       " 42.813316666666665,\n",
       " 42.81328333333333,\n",
       " 42.813266666666664,\n",
       " 42.813233333333336,\n",
       " 42.8132,\n",
       " 42.813183333333335,\n",
       " 42.81316666666667,\n",
       " 42.81316666666667,\n",
       " 42.81313333333333,\n",
       " 42.8131,\n",
       " 42.8131,\n",
       " 42.81308333333333,\n",
       " 42.81305,\n",
       " 42.81303333333334,\n",
       " 42.81301666666667,\n",
       " 42.812983333333335,\n",
       " 42.812983333333335,\n",
       " 42.81296666666667,\n",
       " 42.81293333333333,\n",
       " 42.8129,\n",
       " 42.81288333333333,\n",
       " 42.812866666666665,\n",
       " 42.81283333333333,\n",
       " 42.81281666666667,\n",
       " 42.8128,\n",
       " 42.812783333333336,\n",
       " 42.81275,\n",
       " 42.812733333333334,\n",
       " 42.81271666666667,\n",
       " 42.812666666666665,\n",
       " 42.81265,\n",
       " 42.81263333333333,\n",
       " 42.8126,\n",
       " 42.812583333333336,\n",
       " 42.81256666666667,\n",
       " 42.812533333333334,\n",
       " 42.81251666666667,\n",
       " 42.81248333333333,\n",
       " 42.81245,\n",
       " 42.81243333333333,\n",
       " 42.812416666666664,\n",
       " 42.81238333333334,\n",
       " 42.81236666666667,\n",
       " 42.81236666666667,\n",
       " 42.812333333333335,\n",
       " 42.8123,\n",
       " 42.81228333333333,\n",
       " 42.812266666666666,\n",
       " 42.81223333333333,\n",
       " 42.812216666666664,\n",
       " 42.8122,\n",
       " 42.81218333333333,\n",
       " 42.81215,\n",
       " 42.812133333333335,\n",
       " 42.81211666666667,\n",
       " 42.81206666666667,\n",
       " 42.81205,\n",
       " 42.81203333333333,\n",
       " 42.812,\n",
       " 42.81198333333333,\n",
       " 42.81196666666666,\n",
       " 42.811933333333336,\n",
       " 42.81191666666667,\n",
       " 42.8119,\n",
       " 42.811883333333334,\n",
       " 42.81185,\n",
       " 42.811816666666665,\n",
       " 42.81178333333333,\n",
       " 42.811766666666664,\n",
       " 42.81175,\n",
       " 42.811733333333336,\n",
       " 42.811683333333335,\n",
       " 42.81166666666667,\n",
       " 42.81163333333333,\n",
       " 42.811616666666666,\n",
       " 42.8116,\n",
       " 42.811566666666664,\n",
       " 42.81155,\n",
       " 42.81153333333334,\n",
       " 42.81151666666667,\n",
       " 42.81146666666667,\n",
       " 42.81145,\n",
       " 42.811416666666666,\n",
       " 42.8114,\n",
       " 42.81138333333333,\n",
       " 42.81133333333333,\n",
       " 42.81131666666667,\n",
       " 42.8113,\n",
       " 42.81126666666667,\n",
       " 42.81125,\n",
       " 42.81121666666667,\n",
       " 42.81118333333333,\n",
       " 42.811166666666665,\n",
       " 42.81115,\n",
       " 42.8111,\n",
       " 42.811083333333336,\n",
       " 42.81106666666667,\n",
       " 42.811033333333334,\n",
       " 42.811,\n",
       " 42.810966666666666,\n",
       " 42.81095,\n",
       " 42.81093333333333,\n",
       " 42.81088333333334,\n",
       " 42.81086666666667,\n",
       " 42.81085,\n",
       " 42.81081666666667,\n",
       " 42.8108,\n",
       " 42.81078333333333,\n",
       " 42.810766666666666,\n",
       " 42.81073333333333,\n",
       " 42.810716666666664,\n",
       " 42.81066666666667,\n",
       " 42.81065,\n",
       " 42.810633333333335,\n",
       " 42.81061666666667,\n",
       " 42.810583333333334,\n",
       " 42.810566666666666,\n",
       " 42.81055,\n",
       " 42.810516666666665,\n",
       " 42.8105,\n",
       " 42.81048333333333,\n",
       " 42.81046666666667,\n",
       " 42.810433333333336,\n",
       " 42.81041666666667,\n",
       " 42.8104,\n",
       " 42.81036666666667,\n",
       " 42.81035,\n",
       " 42.81033333333333,\n",
       " 42.810316666666665,\n",
       " 42.810266666666664,\n",
       " 42.81025,\n",
       " 42.81021666666667,\n",
       " 42.8102,\n",
       " 42.810183333333335,\n",
       " 42.81016666666667,\n",
       " 42.81013333333333,\n",
       " 42.810116666666666,\n",
       " 42.8101,\n",
       " 42.810066666666664,\n",
       " 42.81005,\n",
       " 42.81003333333334,\n",
       " 42.81001666666667,\n",
       " 42.80996666666667,\n",
       " 42.80995,\n",
       " 42.809916666666666,\n",
       " 42.8099,\n",
       " 42.80988333333333,\n",
       " 42.80983333333333,\n",
       " 42.80981666666667,\n",
       " 42.8098,\n",
       " 42.8098,\n",
       " 42.80988333333333,\n",
       " 42.81003333333334,\n",
       " 42.81013333333333,\n",
       " 42.810116666666666,\n",
       " 42.8101,\n",
       " 42.8101,\n",
       " 42.8101,\n",
       " 42.81003333333334,\n",
       " 42.80996666666667,\n",
       " 42.809916666666666,\n",
       " 42.809916666666666,\n",
       " 42.80995,\n",
       " 42.80996666666667,\n",
       " 42.809983333333335,\n",
       " 42.81001666666667]"
      ]
     },
     "execution_count": 13,
     "metadata": {},
     "output_type": "execute_result"
    }
   ],
   "source": [
    "drifter['ACTIVE']['LAT']\n",
    "#drifter['ACTIVE']['LONG']\n",
    "#drifter['ACTIVE']['SPEED']\n",
    "#drifter['LEGOLAS']['SPEED']\n",
    "#drifter['SAMWISE']['SPEED']\n",
    "#drifter"
   ]
  },
  {
   "cell_type": "markdown",
   "metadata": {},
   "source": [
    "### 11. (Grad) Constructing terms in a Taylor series to approximate a function\n",
    "\n",
    "The Taylor series expansion for the sine function is given by \n",
    "$$ \\text{sin}(x) = \\Sigma^\\infty_{k=0} \\frac{(-1)^k x^{1+2k}}{(1+2k)!}$$\n",
    "\n",
    "This expression gives an exact form for sin(x) when an infinite number of terms are used; any truncation gives an approximation. Write a loop that constructs terms from $k=0$ up to $k=N$. Don't use any function for the factorial since we haven't gotten to NumPy... create it yourself, instead. Provide the value of sin(0.5) with N=5 terms. How many terms do you need to include before the answer starts to plateau?\n"
   ]
  },
  {
   "cell_type": "code",
   "execution_count": 14,
   "metadata": {
    "collapsed": false
   },
   "outputs": [
    {
     "name": "stdout",
     "output_type": "stream",
     "text": [
      "0.4794255386041834\n"
     ]
    }
   ],
   "source": [
    "def denominator(k):\n",
    "    '''calculate factorial of denominator'''\n",
    "    val = 1\n",
    "    n = 1+2*k\n",
    "    while n>=1:\n",
    "        val *=n\n",
    "        n +=-1  \n",
    "    return val\n",
    "\n",
    "def numerator(x,k):\n",
    "    '''calculate numerator term'''\n",
    "    val = ((-1)**k)*(x**(1+2*k))\n",
    "    return val\n",
    "\n",
    "x = 0.5\n",
    "k = 5\n",
    "\n",
    "sin_x = []\n",
    "for i in range(k+1):\n",
    "    sin_ind = numerator(x, i)/denominator(i)\n",
    "    sin_x.append(sin_ind)\n",
    "\n",
    "sin_x_sum = sum(sin_x)\n",
    "\n",
    "print(sin_x_sum) # Answer for sin(0.5) with N=5\n",
    "    "
   ]
  },
  {
   "cell_type": "code",
   "execution_count": 15,
   "metadata": {
    "collapsed": false
   },
   "outputs": [
    {
     "data": {
      "text/plain": [
       "<matplotlib.text.Text at 0x105aa8358>"
      ]
     },
     "execution_count": 15,
     "metadata": {},
     "output_type": "execute_result"
    },
    {
     "data": {
      "image/png": "[encoded data removed]",
      "text/plain": [
       "<matplotlib.figure.Figure at 0x104a94710>"
      ]
     },
     "metadata": {},
     "output_type": "display_data"
    }
   ],
   "source": [
    "import matplotlib.pyplot as plt\n",
    "%matplotlib inline\n",
    "\n",
    "def sinx(x,k):\n",
    "    sin_x = []\n",
    "    for i in range(k+1):\n",
    "        sin_ind = numerator(x, i)/denominator(i)\n",
    "        sin_x.append(sin_ind)\n",
    "    sin_x_sum = sum(sin_x)\n",
    "    \n",
    "    return sin_x_sum\n",
    "\n",
    "sin_list = []\n",
    "for k in range(10):\n",
    "    val = sinx(x,k)\n",
    "    sin_list.append(val)\n",
    "\n",
    "plt.plot(sin_list)\n",
    "plt.xlabel('No.of Terms')\n",
    "plt.ylabel('Value')\n",
    "\n"
   ]
  },
  {
   "cell_type": "markdown",
   "metadata": {},
   "source": [
    "#### At least two terms, from 0 to 1, are required to generate stable value."
   ]
  }
 ],
 "metadata": {
  "kernelspec": {
   "display_name": "Python 3",
   "language": "python",
   "name": "python3"
  },
  "language_info": {
   "codemirror_mode": {
    "name": "ipython",
    "version": 3
   },
   "file_extension": ".py",
   "mimetype": "text/x-python",
   "name": "python",
   "nbconvert_exporter": "python",
   "pygments_lexer": "ipython3",
   "version": "3.4.4"
  }
 },
 "nbformat": 4,
 "nbformat_minor": 0
}
